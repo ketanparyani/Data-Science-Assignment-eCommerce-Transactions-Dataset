{
  "nbformat": 4,
  "nbformat_minor": 0,
  "metadata": {
    "colab": {
      "provenance": []
    },
    "kernelspec": {
      "name": "python3",
      "display_name": "Python 3"
    },
    "language_info": {
      "name": "python"
    }
  },
  "cells": [
    {
      "cell_type": "markdown",
      "source": [
        "Libraries and Dataset"
      ],
      "metadata": {
        "id": "yfOEIVKjuHVf"
      }
    },
    {
      "cell_type": "code",
      "source": [
        "import pandas as pd\n",
        "from sklearn.metrics.pairwise import cosine_similarity\n",
        "\n",
        "# Load datasets\n",
        "customers = pd.read_csv('Customers.csv')\n",
        "transactions = pd.read_csv('Transactions.csv')"
      ],
      "metadata": {
        "id": "h5dcY1SYuDw-"
      },
      "execution_count": 5,
      "outputs": []
    },
    {
      "cell_type": "markdown",
      "source": [
        "\n",
        "Data Preprocessing"
      ],
      "metadata": {
        "id": "nshpxCyfuOhV"
      }
    },
    {
      "cell_type": "code",
      "execution_count": 6,
      "metadata": {
        "id": "LKsuVLWpgjxu"
      },
      "outputs": [],
      "source": [
        "# Calculating total spending per customer\n",
        "customer_spending = transactions.groupby('CustomerID')['TotalValue'].sum().reset_index()\n",
        "customer_spending.rename(columns={'TotalValue': 'TotalSpending'}, inplace=True)\n",
        "\n",
        "# Calculating average spending per customer\n",
        "avg_spending = transactions.groupby('CustomerID')['TotalValue'].mean().reset_index()\n",
        "avg_spending.rename(columns={'TotalValue': 'AvgSpending'}, inplace=True)\n",
        "\n",
        "# Calculating the number of transactions per customer\n",
        "transaction_count = transactions.groupby('CustomerID')['TransactionID'].count().reset_index()\n",
        "transaction_count.rename(columns={'TransactionID': 'TransactionCount'}, inplace=True)\n",
        "\n",
        "# Merge features with customer data\n",
        "customer_features = customers.merge(customer_spending, on='CustomerID', how='left')\n",
        "customer_features = customer_features.merge(avg_spending, on='CustomerID', how='left')\n",
        "customer_features = customer_features.merge(transaction_count, on='CustomerID', how='left')\n",
        "\n",
        "# Handle missing data\n",
        "customer_features.fillna(0, inplace=True)\n",
        "\n",
        "# Data Preprocessing: Drop non-numeric columns and ensure numeric data\n",
        "feature_matrix = customer_features.set_index('CustomerID').drop(['CustomerName', 'SignupDate'], axis=1)\n",
        "\n",
        "# Ensure all columns are numeric, converting non-numeric to NaN and then filling NaN with 0\n",
        "feature_matrix = feature_matrix.apply(pd.to_numeric, errors='coerce')\n",
        "feature_matrix.fillna(0, inplace=True)\n",
        "\n"
      ]
    },
    {
      "cell_type": "markdown",
      "source": [
        "Similarity calculation"
      ],
      "metadata": {
        "id": "zKWNnXGBt-O2"
      }
    },
    {
      "cell_type": "code",
      "source": [
        "similarity_matrix = cosine_similarity(feature_matrix)\n",
        "similarity_df = pd.DataFrame(similarity_matrix, index=feature_matrix.index, columns=feature_matrix.index)"
      ],
      "metadata": {
        "id": "UeguuFv-t9al"
      },
      "execution_count": 7,
      "outputs": []
    },
    {
      "cell_type": "markdown",
      "source": [
        "Lookalike Recommendations"
      ],
      "metadata": {
        "id": "PtOBxlEgtszl"
      }
    },
    {
      "cell_type": "code",
      "source": [
        "# Lookalike Recommendations for Customers C0001 - C0020\n",
        "lookalike_recommendations = {}\n",
        "\n",
        "for customer_id in feature_matrix.index[:20]:\n",
        "    # similarity scores for the customer\n",
        "    similar_customers = similarity_df[customer_id].sort_values(ascending=False)[1:4]  # Exclude self\n",
        "    recommendations = [(other_customer, score) for other_customer, score in similar_customers.items()]\n",
        "    lookalike_recommendations[customer_id] = recommendations"
      ],
      "metadata": {
        "id": "dkW3Z4ortsD9"
      },
      "execution_count": 8,
      "outputs": []
    },
    {
      "cell_type": "markdown",
      "source": [
        "get CSV"
      ],
      "metadata": {
        "id": "Ama5OicStlU2"
      }
    },
    {
      "cell_type": "code",
      "source": [
        "# Convert recommendations into the required format and save as CSV\n",
        "lookalike_data = []\n",
        "\n",
        "for customer_id, recommendations in lookalike_recommendations.items():\n",
        "    for other_customer, score in recommendations:\n",
        "        lookalike_data.append({\n",
        "            'CustomerID': customer_id,\n",
        "            'LookalikeCustomerID': other_customer,\n",
        "            'SimilarityScore': score\n",
        "        })\n",
        "\n",
        "lookalike_df = pd.DataFrame(lookalike_data)\n",
        "lookalike_df.to_csv('Ketan_Paryani_Lookalike.csv', index=False)"
      ],
      "metadata": {
        "id": "jBtrfq1htj9Y"
      },
      "execution_count": 9,
      "outputs": []
    },
    {
      "cell_type": "markdown",
      "source": [
        "Display the first few rows of recommendations"
      ],
      "metadata": {
        "id": "n-vey-P1tdIN"
      }
    },
    {
      "cell_type": "code",
      "source": [
        "\n",
        "print(lookalike_df.head())"
      ],
      "metadata": {
        "colab": {
          "base_uri": "https://localhost:8080/"
        },
        "id": "z2Nf4zfDtaXv",
        "outputId": "e27d4861-6188-48b8-a5af-727703e3a264"
      },
      "execution_count": 10,
      "outputs": [
        {
          "output_type": "stream",
          "name": "stdout",
          "text": [
            "  CustomerID LookalikeCustomerID  SimilarityScore\n",
            "0      C0001               C0137              1.0\n",
            "1      C0001               C0152              1.0\n",
            "2      C0001               C0056              1.0\n",
            "3      C0002               C0029              1.0\n",
            "4      C0002               C0199              1.0\n"
          ]
        }
      ]
    }
  ]
}